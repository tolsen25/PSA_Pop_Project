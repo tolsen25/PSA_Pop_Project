{
 "cells": [
  {
   "cell_type": "code",
   "execution_count": 7,
   "id": "c4a5030e",
   "metadata": {},
   "outputs": [],
   "source": [
    "import pandas as pd\n",
    "import seaborn as sns\n",
    "import numpy as np"
   ]
  },
  {
   "cell_type": "code",
   "execution_count": 8,
   "id": "f24a717c",
   "metadata": {},
   "outputs": [
    {
     "data": {
      "text/plain": [
       "<bound method NDFrame.head of                                                  Set Name       Year  \\\n",
       "1315                                                 7-11 1961-01-01   \n",
       "1316                    Baseball Player Key Chains-Insert 1961-01-01   \n",
       "1317                                              Bazooka 1961-01-01   \n",
       "1318                                 Bazooka Complete Box 1961-01-01   \n",
       "1319                                        Bazooka Panel 1961-01-01   \n",
       "...                                                   ...        ...   \n",
       "314975  Topps X Julio Rodriguez Show Out Collection Ro... 2023-01-01   \n",
       "314976  Topps X Julio Rodriguez Show Out Collection St... 2023-01-01   \n",
       "314977                    Topps X MLB Clubhouse Exclusive 2023-01-01   \n",
       "314978                   Wild Card 5 Card Draw Autographs 2023-01-01   \n",
       "314979                    Wild Card Auto Mania Autographs 2023-01-01   \n",
       "\n",
       "           Grade  Count  \n",
       "1315        Auth      0  \n",
       "1316        Auth      3  \n",
       "1317        Auth    162  \n",
       "1318        Auth      1  \n",
       "1319        Auth     29  \n",
       "...          ...    ...  \n",
       "314975  GEM‑MT10      1  \n",
       "314976  GEM‑MT10      1  \n",
       "314977  GEM‑MT10     15  \n",
       "314978  GEM‑MT10     17  \n",
       "314979  GEM‑MT10     37  \n",
       "\n",
       "[299100 rows x 4 columns]>"
      ]
     },
     "execution_count": 8,
     "metadata": {},
     "output_type": "execute_result"
    }
   ],
   "source": [
    "rs = pd.read_pickle(\"tidySets.pkl\") # recent sets\n",
    "rs = rs[rs[\"Year\"].dt.year > 1960]\n",
    "\n",
    "rs.head\n"
   ]
  },
  {
   "cell_type": "code",
   "execution_count": null,
   "id": "119e44ff",
   "metadata": {},
   "outputs": [],
   "source": [
    "sns.barplot(x = \"Set Name\", y = \"Count\", hue = \"Grade\", data = rs)\n",
    "plt.show()"
   ]
  },
  {
   "cell_type": "code",
   "execution_count": null,
   "id": "26df0443",
   "metadata": {},
   "outputs": [],
   "source": [
    "np.random.seed(42)\n",
    "data_size = 50\n",
    "x_data = np.random.rand(data_size)\n",
    "y_data = 2 * x_data + 1 + 0.1 * np.random.randn(data_size)\n",
    "\n",
    "# Creating a scatter plot with Seaborn\n",
    "sns.scatterplot(x=x_data, y=y_data)\n",
    "\n",
    "# Adding labels and title\n",
    "plt.xlabel('X-axis')\n",
    "plt.ylabel('Y-axis')\n",
    "plt.title('Sample Seaborn Scatter Plot')"
   ]
  },
  {
   "cell_type": "code",
   "execution_count": null,
   "id": "8ab83b38",
   "metadata": {},
   "outputs": [],
   "source": []
  }
 ],
 "metadata": {
  "kernelspec": {
   "display_name": "Python 3 (ipykernel)",
   "language": "python",
   "name": "python3"
  },
  "language_info": {
   "codemirror_mode": {
    "name": "ipython",
    "version": 3
   },
   "file_extension": ".py",
   "mimetype": "text/x-python",
   "name": "python",
   "nbconvert_exporter": "python",
   "pygments_lexer": "ipython3",
   "version": "3.11.4"
  }
 },
 "nbformat": 4,
 "nbformat_minor": 5
}
