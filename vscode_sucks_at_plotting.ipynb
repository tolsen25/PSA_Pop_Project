{
 "cells": [
  {
   "cell_type": "code",
   "execution_count": 13,
   "id": "e9c20486",
   "metadata": {},
   "outputs": [],
   "source": [
    "import pandas as pd\n",
    "import numpy as np\n",
    "from plotnine import (\n",
    "    ggplot,\n",
    "    aes,\n",
    "    geom_col,\n",
    "    geom_path,\n",
    "    geom_point,\n",
    "    geom_col,\n",
    "    scale_color_discrete,\n",
    "    guides,\n",
    "    guide_legend,\n",
    "    geom_histogram,\n",
    "    labs\n",
    ")\n",
    "\n",
    "\n",
    "sets = pd.read_pickle(\"last2years.pkl\")         \n",
    "setsBig = sets[sets['Total'] > 400]              \n",
    "            \n",
    "        \n",
    "        \n",
    "        \n",
    "        \n",
    "        \n",
    "              \n",
    "              \n",
    "                "
   ]
  },
  {
   "cell_type": "code",
   "execution_count": 14,
   "id": "7ab6f66a",
   "metadata": {},
   "outputs": [],
   "source": [
    "plot = (ggplot(setsBig, aes(x='Total')) +\n",
    "        geom_histogram(binwidth=5, fill='skyblue', color='black', alpha=0.7) +\n",
    "        labs(\n",
    "          \n",
    "          title = \"Title\"\n",
    "          \n",
    "        ))\n",
    "    "
   ]
  },
  {
   "cell_type": "code",
   "execution_count": null,
   "id": "d05cea68",
   "metadata": {},
   "outputs": [],
   "source": [
    "print(plot)\n",
    "\n"
   ]
  },
  {
   "cell_type": "code",
   "execution_count": null,
   "id": "6bc6ae16",
   "metadata": {},
   "outputs": [],
   "source": [
    "(ggplot(setsBig, aes(x='Total')) +\n",
    "        geom_histogram(binwidth=5, fill='skyblue', color='black', alpha=0.7) +\n",
    "        labs(\n",
    "          \n",
    "          title = \"Title\"\n",
    "          \n",
    "        ))\n",
    "    "
   ]
  },
  {
   "cell_type": "code",
   "execution_count": null,
   "id": "babf16fc",
   "metadata": {},
   "outputs": [],
   "source": []
  }
 ],
 "metadata": {
  "kernelspec": {
   "display_name": "Python 3 (ipykernel)",
   "language": "python",
   "name": "python3"
  },
  "language_info": {
   "codemirror_mode": {
    "name": "ipython",
    "version": 3
   },
   "file_extension": ".py",
   "mimetype": "text/x-python",
   "name": "python",
   "nbconvert_exporter": "python",
   "pygments_lexer": "ipython3",
   "version": "3.11.4"
  }
 },
 "nbformat": 4,
 "nbformat_minor": 5
}
