{
 "cells": [
  {
   "cell_type": "code",
   "execution_count": 1,
   "metadata": {},
   "outputs": [],
   "source": [
    "\n",
    "import pandas as pd\n",
    "import numpy as np\n",
    "import matplotlib.pyplot as plt\n",
    "from plotnine import *\n",
    "\n"
   ]
  },
  {
   "cell_type": "code",
   "execution_count": 11,
   "metadata": {},
   "outputs": [],
   "source": [
    "\n",
    "lngSet = pd.read_pickle(\"tidySets.pkl\")\n",
    "#lngSet.to_csv(\"longSets.csv\")"
   ]
  },
  {
   "cell_type": "code",
   "execution_count": 3,
   "metadata": {},
   "outputs": [],
   "source": [
    "df = lngSet\n",
    "import re\n",
    "\n",
    "def extractGrade(s):\n",
    "    match = re.search(r'(\\d{1,2})\\D*$', s)\n",
    "    return int(match.group(1)) if match else 0\n",
    "\n",
    "# Test cases\n",
    "#print(extract_last_two_numbers(\"MINT9\"))  # Output: 9\n",
    "#print(extract_last_two_numbers(\"Auth\"))   # Output: 0\n",
    "\n",
    "df[\"Grade\"] = df['Grade'].apply(lambda x: extractGrade(x))\n",
    "df[\"Grade\"] = pd.to_numeric(df[\"Grade\"])\n",
    "\n",
    "df[\"Year_Diff\"] = 2023 - df[\"Year\"].dt.year\n",
    "\n",
    "\n",
    "df2 = (\n",
    "    df\n",
    "    .loc[df['Year'].dt.year > 1959]\n",
    "    .groupby([\"Set Name\", \"Year\", \"Year_Diff\"])\n",
    "    .agg(\n",
    "        Total_Pop=('Count', 'sum'),\n",
    "        Gems=('Count', lambda x: x[df['Grade'] == 10].sum())\n",
    "    )\n",
    "    .reset_index()\n",
    ")\n"
   ]
  },
  {
   "cell_type": "code",
   "execution_count": 4,
   "metadata": {},
   "outputs": [],
   "source": [
    "df2 = (\n",
    "    df\n",
    "    .loc[df['Year'].dt.year > 1900]\n",
    "    .groupby([\"Set Name\", \"Year\", \"Year_Diff\"])\n",
    "    .agg(\n",
    "        Total_Pop=('Count', 'sum'),\n",
    "        Gems=('Count', lambda x: x[df['Grade'] == 10].sum())\n",
    "    )\n",
    "    .reset_index()\n",
    ")\n",
    "\n",
    "df2[\"Gem_MT_%\"] = df2[\"Gems\"]/ df2[\"Total_Pop\"]\n",
    "df2 = df2.loc[df2[\"Total_Pop\"] > 500]"
   ]
  },
  {
   "cell_type": "code",
   "execution_count": 23,
   "metadata": {},
   "outputs": [],
   "source": [
    "lngSet = pd.read_pickle(\"tidySets.pkl\")\n",
    "# Assuming lngSet is your DataFrame\n",
    "df = lngSet\n",
    "df[\"Year\"] = df[\"Year\"].dt.year\n",
    "df[\"Set Name\"] = df[\"Year\"].astype(str) + \" \" + df[\"Set Name\"]\n",
    "\n",
    "def extractGrade(s):\n",
    "    match = re.search(r'(\\d{1,2})\\D*$', s)\n",
    "    return int(match.group(1)) if match else 0\n",
    "\n",
    "df[\"Grade\"] = df['Grade'].apply(lambda x: extractGrade(x))\n",
    "df[\"Grade\"] = pd.to_numeric(df[\"Grade\"])\n",
    "\n",
    "df3 = (\n",
    "    df\n",
    "    .groupby([\"Set Name\", \"Grade\"])\n",
    "    .agg(\n",
    "        Total_Pop=('Count', 'sum')\n",
    "    )\n",
    "    .reset_index()\n",
    ")\n",
    "\n",
    "df3[\"avg\"] = df3[\"Grade\"] * df3[\"Total_Pop\"]\n",
    "\n",
    "# Corrected aggregation\n",
    "df3 = (\n",
    "    df3\n",
    "    .groupby([\"Set Name\", \"Year\"])\n",
    "    .agg(\n",
    "        Mean=(\"avg\", \"sum\"),\n",
    "        Total_Pop=(\"Total_Pop\", \"sum\")\n",
    "    )\n",
    "    .assign(Mean=lambda x: x[\"Mean\"] / x[\"Total_Pop\"])\n",
    "    .reset_index()\n",
    ")\n",
    "\n",
    "# Optionally, you can round the mean to a specific number of decimal places\n",
    "# df3[\"Mean\"] = df3[\"Mean\"].round(2)\n"
   ]
  },
  {
   "cell_type": "code",
   "execution_count": null,
   "metadata": {},
   "outputs": [],
   "source": [
    "gemScatterPlot = (ggplot(df2,mapping = aes(x = \"Year_Diff\", y = \"Gem_MT_%\")) +\n",
    "    geom_point() +\n",
    "    labs(\n",
    "        title = \"Gem Mint% vs Years Ago from 2023\",\n",
    "        x = \"Years Ago from 2023\",\n",
    "        y = \"Gem Mint%\",\n",
    "        subtitle = \"Min Pop 500\"\n",
    "    ) +\n",
    "    theme_bw()\n",
    "    \n",
    "    \n",
    "    )\n",
    "\n",
    "gemScatterPlot"
   ]
  },
  {
   "cell_type": "code",
   "execution_count": null,
   "metadata": {},
   "outputs": [],
   "source": [
    "topSetPop2 = (\n",
    "  lngSet\n",
    "  .loc[lngSet['Year'].dt.year > 1999]\n",
    "  .groupby([\"Set Name\", \"Year\"])\n",
    "  .agg(\n",
    "    Total_Pop = (\"Count\", \"sum\")\n",
    "    \n",
    "  )\n",
    "  .reset_index()\n",
    "  .sort_values(by=\"Total_Pop\", ascending=False) \n",
    "  .head(10)\n",
    "  \n",
    ")\n",
    "\n",
    "topSetPop2[\"Year\"] = topSetPop2[\"Year\"].dt.year\n",
    "topSetPop2[\"Set Name\"] = topSetPop2[\"Year\"].astype(str) + \" \" + topSetPop2[\"Set Name\"]\n",
    "\n",
    "x = topSetPop2\n",
    "\n",
    "\n"
   ]
  },
  {
   "cell_type": "code",
   "execution_count": null,
   "metadata": {},
   "outputs": [],
   "source": [
    "\n",
    "recentCards = (ggplot(x, mapping = aes(x = \"Set Name\", y = \"Total_Pop\")) +\n",
    "            geom_col(fill = \"lightblue\", color = \"blue\", size = .5) +\n",
    "            coord_flip() +\n",
    "            scale_x_discrete(limits=topSetPop2.sort_values('Total_Pop', ascending=True)['Set Name']) +\n",
    "            theme_bw()+\n",
    "            labs(\n",
    "                title = \"Total Number of Cards Graded for the Top 10 Sets since 2000\",\n",
    "                x =\"\",\n",
    "                y = \"Number of Cards Graded\"\n",
    "            )\n",
    "        \n",
    "\n",
    ")"
   ]
  },
  {
   "cell_type": "code",
   "execution_count": null,
   "metadata": {},
   "outputs": [],
   "source": [
    "recentCards + theme(figure_size=(12,8))"
   ]
  },
  {
   "cell_type": "code",
   "execution_count": null,
   "metadata": {},
   "outputs": [],
   "source": [
    "df3 = df2\n",
    "df3[\"Year\"] = df3[\"Year\"].dt.year\n",
    "df3[\"Set Name\"] = topSetPop2[\"Year\"].astype(str) + \" \" + topSetPop2[\"Set Name\"]"
   ]
  },
  {
   "cell_type": "code",
   "execution_count": null,
   "metadata": {},
   "outputs": [],
   "source": [
    "df.head\n"
   ]
  },
  {
   "cell_type": "code",
   "execution_count": null,
   "metadata": {},
   "outputs": [],
   "source": []
  }
 ],
 "metadata": {
  "kernelspec": {
   "display_name": "stat386",
   "language": "python",
   "name": "python3"
  },
  "language_info": {
   "codemirror_mode": {
    "name": "ipython",
    "version": 3
   },
   "file_extension": ".py",
   "mimetype": "text/x-python",
   "name": "python",
   "nbconvert_exporter": "python",
   "pygments_lexer": "ipython3",
   "version": "3.11.4"
  }
 },
 "nbformat": 4,
 "nbformat_minor": 2
}
